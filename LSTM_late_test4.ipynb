{
 "cells": [
  {
   "cell_type": "code",
   "execution_count": 1,
   "metadata": {},
   "outputs": [
    {
     "name": "stderr",
     "output_type": "stream",
     "text": [
      "c:\\users\\md38\\appdata\\local\\programs\\python\\python37\\lib\\site-packages\\tensorflow\\python\\framework\\dtypes.py:516: FutureWarning: Passing (type, 1) or '1type' as a synonym of type is deprecated; in a future version of numpy, it will be understood as (type, (1,)) / '(1,)type'.\n",
      "  _np_qint8 = np.dtype([(\"qint8\", np.int8, 1)])\n",
      "c:\\users\\md38\\appdata\\local\\programs\\python\\python37\\lib\\site-packages\\tensorflow\\python\\framework\\dtypes.py:517: FutureWarning: Passing (type, 1) or '1type' as a synonym of type is deprecated; in a future version of numpy, it will be understood as (type, (1,)) / '(1,)type'.\n",
      "  _np_quint8 = np.dtype([(\"quint8\", np.uint8, 1)])\n",
      "c:\\users\\md38\\appdata\\local\\programs\\python\\python37\\lib\\site-packages\\tensorflow\\python\\framework\\dtypes.py:518: FutureWarning: Passing (type, 1) or '1type' as a synonym of type is deprecated; in a future version of numpy, it will be understood as (type, (1,)) / '(1,)type'.\n",
      "  _np_qint16 = np.dtype([(\"qint16\", np.int16, 1)])\n",
      "c:\\users\\md38\\appdata\\local\\programs\\python\\python37\\lib\\site-packages\\tensorflow\\python\\framework\\dtypes.py:519: FutureWarning: Passing (type, 1) or '1type' as a synonym of type is deprecated; in a future version of numpy, it will be understood as (type, (1,)) / '(1,)type'.\n",
      "  _np_quint16 = np.dtype([(\"quint16\", np.uint16, 1)])\n",
      "c:\\users\\md38\\appdata\\local\\programs\\python\\python37\\lib\\site-packages\\tensorflow\\python\\framework\\dtypes.py:520: FutureWarning: Passing (type, 1) or '1type' as a synonym of type is deprecated; in a future version of numpy, it will be understood as (type, (1,)) / '(1,)type'.\n",
      "  _np_qint32 = np.dtype([(\"qint32\", np.int32, 1)])\n",
      "c:\\users\\md38\\appdata\\local\\programs\\python\\python37\\lib\\site-packages\\tensorflow\\python\\framework\\dtypes.py:525: FutureWarning: Passing (type, 1) or '1type' as a synonym of type is deprecated; in a future version of numpy, it will be understood as (type, (1,)) / '(1,)type'.\n",
      "  np_resource = np.dtype([(\"resource\", np.ubyte, 1)])\n",
      "c:\\users\\md38\\appdata\\local\\programs\\python\\python37\\lib\\site-packages\\tensorboard\\compat\\tensorflow_stub\\dtypes.py:541: FutureWarning: Passing (type, 1) or '1type' as a synonym of type is deprecated; in a future version of numpy, it will be understood as (type, (1,)) / '(1,)type'.\n",
      "  _np_qint8 = np.dtype([(\"qint8\", np.int8, 1)])\n",
      "c:\\users\\md38\\appdata\\local\\programs\\python\\python37\\lib\\site-packages\\tensorboard\\compat\\tensorflow_stub\\dtypes.py:542: FutureWarning: Passing (type, 1) or '1type' as a synonym of type is deprecated; in a future version of numpy, it will be understood as (type, (1,)) / '(1,)type'.\n",
      "  _np_quint8 = np.dtype([(\"quint8\", np.uint8, 1)])\n",
      "c:\\users\\md38\\appdata\\local\\programs\\python\\python37\\lib\\site-packages\\tensorboard\\compat\\tensorflow_stub\\dtypes.py:543: FutureWarning: Passing (type, 1) or '1type' as a synonym of type is deprecated; in a future version of numpy, it will be understood as (type, (1,)) / '(1,)type'.\n",
      "  _np_qint16 = np.dtype([(\"qint16\", np.int16, 1)])\n",
      "c:\\users\\md38\\appdata\\local\\programs\\python\\python37\\lib\\site-packages\\tensorboard\\compat\\tensorflow_stub\\dtypes.py:544: FutureWarning: Passing (type, 1) or '1type' as a synonym of type is deprecated; in a future version of numpy, it will be understood as (type, (1,)) / '(1,)type'.\n",
      "  _np_quint16 = np.dtype([(\"quint16\", np.uint16, 1)])\n",
      "c:\\users\\md38\\appdata\\local\\programs\\python\\python37\\lib\\site-packages\\tensorboard\\compat\\tensorflow_stub\\dtypes.py:545: FutureWarning: Passing (type, 1) or '1type' as a synonym of type is deprecated; in a future version of numpy, it will be understood as (type, (1,)) / '(1,)type'.\n",
      "  _np_qint32 = np.dtype([(\"qint32\", np.int32, 1)])\n",
      "c:\\users\\md38\\appdata\\local\\programs\\python\\python37\\lib\\site-packages\\tensorboard\\compat\\tensorflow_stub\\dtypes.py:550: FutureWarning: Passing (type, 1) or '1type' as a synonym of type is deprecated; in a future version of numpy, it will be understood as (type, (1,)) / '(1,)type'.\n",
      "  np_resource = np.dtype([(\"resource\", np.ubyte, 1)])\n"
     ]
    }
   ],
   "source": [
    "import pandas as pd\n",
    "#from sklearn.preprocessing import Imputer\n",
    "#from sklearn.impute import SimpleImputer\n",
    "%matplotlib inline\n",
    "import matplotlib.pyplot as plt\n",
    "import numpy as np\n",
    "import os\n",
    "import math\n",
    "from sklearn.preprocessing import StandardScaler, MinMaxScaler\n",
    "from stldecompose import decompose\n",
    "import time\n",
    "from functools import reduce\n",
    "from functools import partial\n",
    "import tensorflow as tf\n",
    "from datetime import datetime\n",
    "import random\n",
    "from random import randrange\n",
    "from statsmodels.tsa.seasonal import seasonal_decompose\n",
    "from pandas.tseries.holiday import USFederalHolidayCalendar as calendar\n",
    "from datetime import timedelta\n",
    "from random import shuffle\n",
    "from scipy import sparse\n",
    "from tensorflow.python.keras.models import Sequential\n",
    "from tensorflow.python.keras.layers import Input, Dense, GRU, Embedding, LSTM, Dropout\n",
    "from tensorflow.python.keras.optimizers import RMSprop , Adam, SGD\n",
    "from tensorflow.python.keras.callbacks import EarlyStopping, ModelCheckpoint, TensorBoard, ReduceLROnPlateau\n",
    "from tensorflow.keras.layers import TimeDistributed, Activation, RepeatVector, BatchNormalization\n",
    "ip=get_ipython()\n",
    "user_ns=ip.user_ns\n",
    "import_ls=%who_ls"
   ]
  },
  {
   "cell_type": "code",
   "execution_count": 2,
   "metadata": {
    "scrolled": true
   },
   "outputs": [
    {
     "name": "stdout",
     "output_type": "stream",
     "text": [
      "[name: \"/device:CPU:0\"\n",
      "device_type: \"CPU\"\n",
      "memory_limit: 268435456\n",
      "locality {\n",
      "}\n",
      "incarnation: 4781658231152063013\n",
      ", name: \"/device:GPU:0\"\n",
      "device_type: \"GPU\"\n",
      "memory_limit: 20309735506\n",
      "locality {\n",
      "  bus_id: 1\n",
      "  links {\n",
      "  }\n",
      "}\n",
      "incarnation: 12050169929728204374\n",
      "physical_device_desc: \"device: 0, name: Quadro RTX 6000, pci bus id: 0000:2d:00.0, compute capability: 7.5\"\n",
      "]\n"
     ]
    }
   ],
   "source": [
    "from tensorflow.python.client import device_lib\n",
    "print(device_lib.list_local_devices())"
   ]
  },
  {
   "cell_type": "code",
   "execution_count": 3,
   "metadata": {},
   "outputs": [
    {
     "name": "stdout",
     "output_type": "stream",
     "text": [
      "gpu: 5%, gpu-mem: 0%\n"
     ]
    }
   ],
   "source": [
    "import nvidia_smi\n",
    "nvidia_smi.nvmlInit()\n",
    "handle = nvidia_smi.nvmlDeviceGetHandleByIndex(0)\n",
    "# card id 0 hardcoded here, there is also a call to get all available card ids, so we could iterate\n",
    "\n",
    "res = nvidia_smi.nvmlDeviceGetUtilizationRates(handle)\n",
    "print(f'gpu: {res.gpu}%, gpu-mem: {res.memory}%')"
   ]
  },
  {
   "cell_type": "code",
   "execution_count": 4,
   "metadata": {},
   "outputs": [],
   "source": [
    "def lookup(s):\n",
    "    dates = {date:pd.to_datetime(date) for date in s.unique()}\n",
    "    return s.map(dates)\n",
    "file_ls=['daily_spx.csv','daily_INTC.csv','daily_amzn.csv','daily_aapl.csv','daily_msft.csv','daily_amd.csv']\n",
    "s=1000\n",
    "df=pd.DataFrame(columns=['StoreNumber','DateTime','Open','High','Low','Close','Volume'])\n",
    "for file in file_ls:\n",
    "    s+=1\n",
    "    df_temp=pd.read_csv(file)\n",
    "    df_temp.columns=['DateTime','Open','High','Low','Close','Volume']\n",
    "    df_temp['DateTime']=lookup(df_temp['DateTime'])\n",
    "    df_temp['StoreNumber']=s\n",
    "    df_temp=df_temp[['StoreNumber','DateTime','Open','High','Low','Close','Volume']]\n",
    "    df=pd.concat([df,df_temp])\n",
    "del df_temp"
   ]
  },
  {
   "cell_type": "code",
   "execution_count": 5,
   "metadata": {},
   "outputs": [],
   "source": [
    "#df_new['Hour'] = df_new['DateTime'].dt.hour\n",
    "df['Weekday'] = df['DateTime'].dt.weekday\n",
    "df['Monthday'] =df['DateTime'].dt.day\n",
    "cal = calendar()\n",
    "#df_new=df_new.sort_values(['StoreNumber','DateTime']).reset_index()\n",
    "holidays=cal.holidays(df.DateTime.min(), end=df.DateTime.max())\n",
    "holidays=[i.date() for i in holidays]\n",
    "df.loc[df['DateTime'].dt.date.isin(holidays),'Holidays']=2\n",
    "\n",
    "holidays=cal.holidays(df.DateTime.min(), end=df.DateTime.max())- timedelta(days=1)\n",
    "holidays=[i.date() for i in holidays]\n",
    "df.loc[df['DateTime'].dt.date.isin(holidays),'Holidays']=1\n",
    "\n",
    "holidays=cal.holidays(df.DateTime.min(), end=df.DateTime.max())+ timedelta(days=1)\n",
    "holidays=[i.date() for i in holidays]\n",
    "df.loc[df['DateTime'].dt.date.isin(holidays),'Holidays']=3\n",
    "df.loc[df['Holidays'].isnull(),'Holidays']=0\n",
    "# add total sales as an indicator of the store scale\n",
    "#df['StoreScale']=df.groupby('StoreNumber')['Gallons'].transform(lambda x: x.interpolate().sum()/x.interpolate().count())"
   ]
  },
  {
   "cell_type": "code",
   "execution_count": 6,
   "metadata": {},
   "outputs": [
    {
     "data": {
      "text/plain": [
       "{'cal',\n",
       " 'device_lib',\n",
       " 'df',\n",
       " 'file',\n",
       " 'file_ls',\n",
       " 'handle',\n",
       " 'holidays',\n",
       " 'import_ls',\n",
       " 'lookup',\n",
       " 'nvidia_smi',\n",
       " 'res',\n",
       " 's'}"
      ]
     },
     "execution_count": 6,
     "metadata": {},
     "output_type": "execute_result"
    }
   ],
   "source": [
    "var_ls=%who_ls\n",
    "set(var_ls)-set(import_ls)"
   ]
  },
  {
   "cell_type": "code",
   "execution_count": 7,
   "metadata": {},
   "outputs": [],
   "source": [
    "del cal,holidays,var_ls"
   ]
  },
  {
   "cell_type": "code",
   "execution_count": 8,
   "metadata": {},
   "outputs": [
    {
     "data": {
      "text/plain": [
       "StoreNumber\n",
       "1001   2000-01-03\n",
       "1002   1999-11-19\n",
       "1003   1999-11-19\n",
       "1004   1999-11-19\n",
       "1005   1999-11-19\n",
       "1006   1999-11-19\n",
       "Name: DateTime, dtype: datetime64[ns]"
      ]
     },
     "execution_count": 8,
     "metadata": {},
     "output_type": "execute_result"
    }
   ],
   "source": [
    "df.groupby('StoreNumber')['DateTime'].min()"
   ]
  },
  {
   "cell_type": "code",
   "execution_count": 9,
   "metadata": {},
   "outputs": [],
   "source": [
    "#keep healthy cycle data (extreme)\n",
    "df=df[df['DateTime']>=datetime.strptime('2000-01-03 00:00:00' , '%Y-%m-%d %H:%M:%S')]\n",
    "df=df.sort_values(['StoreNumber','DateTime']).reset_index(drop=True)\n",
    "df['Diff']=df['Close']-df['Open']"
   ]
  },
  {
   "cell_type": "code",
   "execution_count": 10,
   "metadata": {},
   "outputs": [
    {
     "data": {
      "text/plain": [
       "Index(['StoreNumber', 'DateTime', 'Open', 'High', 'Low', 'Close', 'Volume',\n",
       "       'Weekday', 'Monthday', 'Holidays', 'Diff'],\n",
       "      dtype='object')"
      ]
     },
     "execution_count": 10,
     "metadata": {},
     "output_type": "execute_result"
    }
   ],
   "source": [
    "df.columns"
   ]
  },
  {
   "cell_type": "code",
   "execution_count": 11,
   "metadata": {},
   "outputs": [],
   "source": [
    "df['Holidays']=df['Holidays'].astype(int)"
   ]
  },
  {
   "cell_type": "code",
   "execution_count": 12,
   "metadata": {},
   "outputs": [],
   "source": [
    "#df_new.to_pickle('df_new_model_ready')\n",
    "#df_new=pd.read_pickle('df_new_model_ready')"
   ]
  },
  {
   "cell_type": "code",
   "execution_count": 13,
   "metadata": {},
   "outputs": [],
   "source": [
    "cat_columns=['Weekday','Monthday','Holidays', ]\n",
    "prev_columns=list(df.columns)\n",
    "prev_columns.remove('StoreNumber')\n",
    "prev_columns.remove('DateTime')\n",
    "target_names=['Open']\n",
    "unknowns=['High', 'Low', 'Close', 'Volume','Diff']\n",
    "knowns=list(df.columns)\n",
    "for col in unknowns:\n",
    "    knowns.remove(col)\n",
    "\n",
    "shift_days = 1\n",
    "shift_steps = shift_days * 1  # Number of hours.\n",
    "\n",
    "#df_targets = df_new.groupby('StoreNumber')[target_names].shift(-shift_steps).dropna().copy()\n",
    "#x_data_present=df_new[knowns][shift_steps:].copy()\n",
    "\n",
    "df_present=df.groupby('StoreNumber')[knowns].transform(lambda x: x.shift(-shift_steps)).dropna().copy()\n",
    "df_present.reset_index(drop=True, inplace=True)\n",
    "#x_data_df[['Hour']]=x_data_df[['Hour']].apply(lambda x: np.sin(2.0*np.pi*(x+0.5)/24.0)+np.cos(2.0*np.pi*(x+0.5)/24.0))\n",
    "#x_data_df[['Weekday']]=x_data_df[['Weekday']].apply(lambda x: np.sin(2.0*np.pi*(x-0.5)/7.0)+np.cos(2.0*np.pi*(x-0.5)/7.0))\n",
    "#x_data_df=pd.get_dummies(x_data_df, columns=['Hour', 'Weekday'])\n",
    "df_previous=df.groupby('StoreNumber')[prev_columns].transform(lambda x: x.shift(shift_steps)).dropna().copy()\n",
    "df_previous.reset_index(drop=True, inplace=True)\n",
    "df_previous.columns=[s + '_prev' for s in df_previous.columns]\n",
    "\n",
    "df=pd.concat([df_present,df_previous],axis=1)\n",
    "#y_data = df_targets.values[:-shift_steps]"
   ]
  },
  {
   "cell_type": "code",
   "execution_count": 14,
   "metadata": {},
   "outputs": [
    {
     "data": {
      "text/plain": [
       "Index(['StoreNumber', 'DateTime', 'Open', 'Weekday', 'Monthday', 'Holidays',\n",
       "       'Open_prev', 'High_prev', 'Low_prev', 'Close_prev', 'Volume_prev',\n",
       "       'Weekday_prev', 'Monthday_prev', 'Holidays_prev', 'Diff_prev'],\n",
       "      dtype='object')"
      ]
     },
     "execution_count": 14,
     "metadata": {},
     "output_type": "execute_result"
    }
   ],
   "source": [
    "df.columns"
   ]
  },
  {
   "cell_type": "code",
   "execution_count": 15,
   "metadata": {},
   "outputs": [],
   "source": [
    "#df.to_pickle('df_model_ready')\n",
    "#df=pd.read_pickle('df_model_ready')"
   ]
  },
  {
   "cell_type": "code",
   "execution_count": 16,
   "metadata": {},
   "outputs": [
    {
     "data": {
      "text/plain": [
       "{'cat_columns',\n",
       " 'col',\n",
       " 'device_lib',\n",
       " 'df',\n",
       " 'df_present',\n",
       " 'df_previous',\n",
       " 'file',\n",
       " 'file_ls',\n",
       " 'handle',\n",
       " 'import_ls',\n",
       " 'knowns',\n",
       " 'lookup',\n",
       " 'nvidia_smi',\n",
       " 'prev_columns',\n",
       " 'res',\n",
       " 's',\n",
       " 'shift_days',\n",
       " 'shift_steps',\n",
       " 'target_names',\n",
       " 'unknowns'}"
      ]
     },
     "execution_count": 16,
     "metadata": {},
     "output_type": "execute_result"
    }
   ],
   "source": [
    "var_ls=%who_ls\n",
    "set(var_ls)-set(import_ls)"
   ]
  },
  {
   "cell_type": "code",
   "execution_count": 17,
   "metadata": {},
   "outputs": [],
   "source": [
    "del df_present,df_previous,var_ls"
   ]
  },
  {
   "cell_type": "code",
   "execution_count": 18,
   "metadata": {},
   "outputs": [],
   "source": [
    "cat_columns.extend([s + '_prev' for s in prev_columns if s in cat_columns])\n",
    "df=pd.get_dummies(df,columns=cat_columns)"
   ]
  },
  {
   "cell_type": "code",
   "execution_count": 19,
   "metadata": {},
   "outputs": [],
   "source": [
    "target_names=['Open']\n",
    "num_data = len(df)\n",
    "x_cols=['Open_prev','Diff_prev']\n",
    "#x_cols=list(set(df.columns)-set(['StoreNumber','DateTime'])-set(target_names))\n",
    "store_val_cols=[ 'Open_prev',\n",
    " 'High_prev',\n",
    " 'Low_prev',\n",
    " 'Close_prev','Volume_prev','Diff_prev']\n",
    "store_val_cols=[s for s in store_val_cols if s in x_cols]\n",
    "val_cols=[ ]\n",
    "store_ls=list(df.StoreNumber.drop_duplicates())\n",
    "store_ls=[int(i) for i in store_ls]\n"
   ]
  },
  {
   "cell_type": "code",
   "execution_count": 20,
   "metadata": {},
   "outputs": [],
   "source": [
    "x_scaled=df[['StoreNumber','DateTime']+x_cols].copy()\n",
    "y_scaled=df[['StoreNumber','DateTime']+target_names].copy()\n",
    "x_scaler={}\n",
    "y_scaler={}\n",
    "#x_scaler[0] = MinMaxScaler()\n",
    "#x_scaled[val_cols]=x_scaler[0].fit_transform(x_scaled[val_cols])\n",
    "for store in store_ls:\n",
    "    x_scaler[store] = MinMaxScaler()#StandardScaler()\n",
    "    x_scaled.loc[x_scaled[\"StoreNumber\"]==store,store_val_cols] = \\\n",
    "    x_scaler[store].fit_transform(df[df[\"StoreNumber\"]==store][store_val_cols])\n",
    "    y_scaler[store] = MinMaxScaler()\n",
    "    y_scaled.loc[df[\"StoreNumber\"]==store,target_names] = \\\n",
    "    y_scaler[store].fit_transform(df[df[\"StoreNumber\"]==store][target_names]\\\n",
    "    .values.reshape(-1, 1)).reshape(1, -1)[0]\n",
    "#np.save('x_train_scaled.npy',x_train_scaled)\n",
    "#np.save('y_train_scaled.npy',y_train_scaled)\n",
    "#np.save('x_test_scaled.npy',x_test_scaled)\n",
    "#np.save('y_test_scaled.npy',y_test_scaled)"
   ]
  },
  {
   "cell_type": "code",
   "execution_count": 21,
   "metadata": {},
   "outputs": [],
   "source": [
    "train_split = 0.85\n",
    "datetime_length=df.DateTime.drop_duplicates().count()\n",
    "n_steps=df.StoreNumber.drop_duplicates().count()\n",
    "num_train = int(train_split * datetime_length)\n",
    "num_test = datetime_length - num_train\n",
    "x_train = x_scaled.groupby('StoreNumber')[x_scaled.columns].apply(lambda x: x[0:num_train]).reset_index(drop=True)\n",
    "x_test = x_scaled.groupby('StoreNumber')[x_scaled.columns].apply(lambda x: x[num_train:]).reset_index(drop=True)\n",
    "y_train = y_scaled.groupby('StoreNumber')[y_scaled.columns].apply(lambda x: x[0:num_train]).reset_index(drop=True)\n",
    "y_test = y_scaled.groupby('StoreNumber')[y_scaled.columns].apply(lambda x: x[num_train:]).reset_index(drop=True)\n",
    "#num_x_signals = x_data.shape[1]\n",
    "#num_y_signals = y_data.shape[1]"
   ]
  },
  {
   "cell_type": "code",
   "execution_count": 22,
   "metadata": {},
   "outputs": [],
   "source": [
    "arr_x_train=sparse.csr_matrix(x_train.values[:,2:].astype(float))\n",
    "arr_y_train=y_train.values\n",
    "arr_x_test=sparse.csr_matrix(x_test.values[:,2:].astype(float))\n",
    "arr_y_test=y_test.values\n",
    "#sparse.save_npz('arr_x_train.npz', arr_x_train)\n",
    "#np.save('arr_y_train.npy',arr_y_train, allow_pickle=True)\n",
    "#sparse.save_npz('arr_x_test.npz', arr_x_test)\n",
    "#np.save('arr_y_test.npy',arr_y_test, allow_pickle=True)"
   ]
  },
  {
   "cell_type": "code",
   "execution_count": 23,
   "metadata": {},
   "outputs": [],
   "source": [
    "#arr_x_train = sparse.load_npz('arr_x_train.npz')\n",
    "#arr_y_train = np.load('arr_y_train.npy', allow_pickle=True)\n",
    "#arr_x_test = sparse.load_npz('arr_x_test.npz')\n",
    "#arr_y_test = np.load('arr_y_test.npy', allow_pickle=True)"
   ]
  },
  {
   "cell_type": "code",
   "execution_count": 24,
   "metadata": {},
   "outputs": [],
   "source": [
    "store_ls=np.unique(arr_y_train[:,0])\n",
    "n_steps=len(store_ls)\n",
    "store_ls=[int(i) for i in store_ls]\n",
    "num_x_signals = arr_x_train.shape[1]\n",
    "num_y_signals = arr_y_train.shape[1]-2\n",
    "num_test=arr_y_test[arr_y_test[:,0]==1001].shape[0]\n",
    "x_shape= (len(store_ls), num_test, num_x_signals)\n",
    "x_val = np.zeros(shape=x_shape, dtype=np.float16)\n",
    "y_shape= (len(store_ls), num_test, num_y_signals)\n",
    "y_val = np.zeros(shape=y_shape, dtype=np.float16)\n",
    "i=0\n",
    "for store in store_ls:\n",
    "    cond=arr_y_test[:,0]==store\n",
    "    x_val[i] = arr_x_test[cond,:].toarray()\n",
    "    y_val[i] = arr_y_test[cond,2:]\n",
    "    i+=1\n",
    "validation_data = (x_val,y_val)"
   ]
  },
  {
   "cell_type": "code",
   "execution_count": 25,
   "metadata": {},
   "outputs": [],
   "source": [
    "n_epochs=40\n",
    "sequence_length = 24 * 7 * 3\n",
    "#sequence_length=24 * 7 * 8\n",
    "stride=24\n",
    "\n",
    "datetime_train_length=arr_y_train[arr_y_train[:,0]==1001].shape[0]\n",
    "batch_size=math.ceil((datetime_train_length-sequence_length)/stride+1) #125\n",
    "batch_store_max=math.ceil((datetime_train_length-sequence_length)/stride+1)\n",
    "n_batchs=math.ceil(batch_store_max/batch_size)\n",
    "n_batch_steps=n_batchs*n_steps\n",
    "batch_length=sequence_length+stride*(batch_size-1)\n",
    "\n",
    "def fill_stores(n):\n",
    "    store_random_dic = {}\n",
    "    store_random_ls=np.unique(arr_y_train[:,0])\n",
    "    store_random_ls=[int(i) for i in store_random_ls]\n",
    "    shuffle(store_random_ls)\n",
    "    for rand_store in store_random_ls:\n",
    "        store_random_dic[rand_store]=list(range(n))\n",
    "        shuffle(store_random_dic[rand_store])\n",
    "    return store_random_ls,store_random_dic\n",
    "\n",
    "def make_rand_store(sequence_length, batch_size,n_epochs, stride):\n",
    "    if batch_store_max<batch_size: return print('batch size is greater than max batch size')\n",
    "    rand_vars=np.zeros((n_batch_steps*n_epochs,2), dtype=np.int32)\n",
    "    store_random_ls=[]\n",
    "    for i in range(n_batch_steps*n_epochs):\n",
    "        if store_random_ls==[]:\n",
    "            store_random_ls,store_random_dic=fill_stores(n_batchs)\n",
    "        rand_store = random.choice(store_random_ls)\n",
    "        n_batch = random.choice(store_random_dic[rand_store])\n",
    "        store_random_dic[rand_store].remove(n_batch)\n",
    "        if store_random_dic[rand_store]==[]:\n",
    "            store_random_ls.remove(rand_store)\n",
    "        rand_vars[i]=[rand_store,n_batch]\n",
    "    return rand_vars\n",
    "rand_vars=make_rand_store(sequence_length, batch_size,n_epochs, stride)"
   ]
  },
  {
   "cell_type": "code",
   "execution_count": 26,
   "metadata": {},
   "outputs": [],
   "source": [
    "def storedata_generator2(sequence_length, batch_size, stride=24):\n",
    "    \"\"\"\n",
    "    Generator function for creating random batches of training-data.\n",
    "    \"\"\"\n",
    "    # infinite loop.\n",
    "    store_random_ls=[]\n",
    "    \n",
    "    # Allocate a new array for the batch of input-signals.\n",
    "    x_shape = (batch_size, sequence_length, num_x_signals)\n",
    "    x_batch = np.zeros(shape=x_shape, dtype=np.float16)\n",
    "\n",
    "    # Allocate a new array for the batch of output-signals.\n",
    "    y_shape = (batch_size, sequence_length, num_y_signals)\n",
    "    y_batch = np.zeros(shape=y_shape, dtype=np.float16)\n",
    "    s=0\n",
    "    while True:\n",
    "        rand_store,n_batch=rand_vars[s]\n",
    "        cond=arr_y_train[:,0]==rand_store\n",
    "        x_store=arr_x_train[cond,:].toarray()\n",
    "        y_store=arr_y_train[cond,2:]\n",
    "        for i in range(batch_size):\n",
    "            if (n_batch != n_batchs-1)&(n_batchs != 1):\n",
    "                start = (n_batch*batch_size+i)*stride\n",
    "            elif (n_batchs == 1):\n",
    "                if i != batch_size-1:\n",
    "                    start = i*stride\n",
    "                else:\n",
    "                    start =  datetime_train_length-sequence_length                    \n",
    "            else:\n",
    "                start = datetime_train_length - batch_length + stride*i\n",
    "            end = start + sequence_length        \n",
    "            x_batch[i] = x_store[start:end]\n",
    "            y_batch[i] = y_store[start:end]\n",
    "        s+=1\n",
    "        yield (x_batch, y_batch)"
   ]
  },
  {
   "cell_type": "code",
   "execution_count": 27,
   "metadata": {},
   "outputs": [
    {
     "name": "stdout",
     "output_type": "stream",
     "text": [
      "Wall time: 5.97 ms\n"
     ]
    }
   ],
   "source": [
    "%%time\n",
    "generator = storedata_generator2(sequence_length,batch_size,stride)\n",
    "x_batch, y_batch = next(generator)"
   ]
  },
  {
   "cell_type": "code",
   "execution_count": 28,
   "metadata": {},
   "outputs": [
    {
     "name": "stdout",
     "output_type": "stream",
     "text": [
      "3.22 ms ± 620 µs per loop (mean ± std. dev. of 7 runs, 10 loops each)\n"
     ]
    }
   ],
   "source": [
    "%timeit -n 10 x_batch, y_batch = next(generator)"
   ]
  },
  {
   "cell_type": "code",
   "execution_count": 29,
   "metadata": {},
   "outputs": [],
   "source": [
    "generator = storedata_generator2(sequence_length,batch_size,\n",
    "                           stride)\n",
    "#generator = TimeseriesGenerator(x_train_scaled, y_train_scaled, length=3, batch_size=2,sampling_rate=4)\n",
    "#x_batch, y_batch = next(generator)\n",
    "#batch = 0   # First sequence in the batch.\n",
    "#signal = 0  # First signal from the 20 input-signals.\n"
   ]
  },
  {
   "cell_type": "code",
   "execution_count": 30,
   "metadata": {},
   "outputs": [],
   "source": [
    "def loss_mse_warmup(y_true, y_pred):\n",
    "    \"\"\"\n",
    "    Calculate the Mean Squared Error between y_true and y_pred,\n",
    "    but ignore the beginning \"warmup\" part of the sequences.\n",
    "    \n",
    "    y_true is the desired output.\n",
    "    y_pred is the model's output.\n",
    "    \"\"\"\n",
    "\n",
    "    # The shape of both input tensors are:\n",
    "    # [batch_size, sequence_length, num_y_signals].\n",
    "\n",
    "    # Ignore the \"warmup\" parts of the sequences\n",
    "    # by taking slices of the tensors.\n",
    "    y_true_slice = y_true[:, warmup_steps:, :]\n",
    "    y_pred_slice = y_pred[:, warmup_steps:, :]\n",
    "\n",
    "    # These sliced tensors both have this shape:\n",
    "    # [batch_size, sequence_length - warmup_steps, num_y_signals]\n",
    "\n",
    "    # Calculate the MSE loss for each value in these tensors.\n",
    "    # This outputs a 3-rank tensor of the same shape.\n",
    "    loss = tf.losses.mean_squared_error(labels=y_true_slice,\n",
    "                                        predictions=y_pred_slice)\n",
    "\n",
    "    # Keras may reduce this across the first axis (the batch)\n",
    "    # but the semantics are unclear, so to be sure we use\n",
    "    # the loss across the entire tensor, we reduce it to a\n",
    "    # single scalar with the mean function.\n",
    "    loss_mean = tf.reduce_mean(loss)\n",
    "\n",
    "    return loss_mean"
   ]
  },
  {
   "cell_type": "code",
   "execution_count": 31,
   "metadata": {},
   "outputs": [
    {
     "name": "stdout",
     "output_type": "stream",
     "text": [
      "WARNING:tensorflow:From c:\\users\\md38\\appdata\\local\\programs\\python\\python37\\lib\\site-packages\\tensorflow\\python\\ops\\init_ops.py:1251: calling VarianceScaling.__init__ (from tensorflow.python.ops.init_ops) with dtype is deprecated and will be removed in a future version.\n",
      "Instructions for updating:\n",
      "Call initializer instance with the dtype argument instead of passing it to the constructor\n",
      "WARNING:tensorflow:From c:\\users\\md38\\appdata\\local\\programs\\python\\python37\\lib\\site-packages\\tensorflow\\python\\ops\\losses\\losses_impl.py:121: add_dispatch_support.<locals>.wrapper (from tensorflow.python.ops.array_ops) is deprecated and will be removed in a future version.\n",
      "Instructions for updating:\n",
      "Use tf.where in 2.0, which has the same broadcast rule as np.where\n",
      "Model: \"sequential\"\n",
      "_________________________________________________________________\n",
      "Layer (type)                 Output Shape              Param #   \n",
      "=================================================================\n",
      "lstm (LSTM)                  (None, None, 512)         1054720   \n",
      "_________________________________________________________________\n",
      "lstm_1 (LSTM)                (None, None, 256)         787456    \n",
      "_________________________________________________________________\n",
      "lstm_2 (LSTM)                (None, None, 128)         197120    \n",
      "_________________________________________________________________\n",
      "dense (Dense)                (None, None, 1)           129       \n",
      "=================================================================\n",
      "Total params: 2,039,425\n",
      "Trainable params: 2,039,425\n",
      "Non-trainable params: 0\n",
      "_________________________________________________________________\n"
     ]
    }
   ],
   "source": [
    "#model1\n",
    "model = Sequential()\n",
    "#model.add(GRU(units=512,\n",
    "model.add(LSTM(units=512,\n",
    "              #dropout=0.0, recurrent_dropout=0.0,\n",
    "              #kernel_initializer=keras.initializers.RandomNormal(seed=1337),\n",
    "              return_sequences=True,\n",
    "              input_shape=(None, num_x_signals,)))\n",
    "#model.add(Dropout(0.4))\n",
    "model.add(LSTM(256, dropout=0.0\n",
    "               ,return_sequences=True,\n",
    "               #kernel_initializer=keras.initializers.RandomNormal(seed=1337),\n",
    "              ))\n",
    "model.add(LSTM(128, dropout=0.0\n",
    "               ,return_sequences=True\n",
    "               #kernel_initializer=keras.initializers.RandomNormal(seed=1337),\n",
    "              ))\n",
    "model.add(Dense(num_y_signals, activation='sigmoid'))\n",
    "\"\"\"\n",
    "if False:\n",
    "    from tensorflow.python.keras.initializers import RandomUniform\n",
    "    # Maybe use lower init-ranges.\n",
    "    init = RandomUniform(minval=-0.05, maxval=0.05)\n",
    "\n",
    "    model.add(Dense(num_y_signals,\n",
    "                    activation='linear',\n",
    "                    kernel_initializer=init))\n",
    "\"\"\"\n",
    "warmup_steps = 50\n",
    "#optimizer = RMSprop(lr=1e-3)\n",
    "optimizer = Adam(lr=1e-3)\n",
    "model.compile(loss=loss_mse_warmup, optimizer=optimizer)\n",
    "model.summary()"
   ]
  },
  {
   "cell_type": "code",
   "execution_count": 31,
   "metadata": {},
   "outputs": [],
   "source": [
    "path_checkpoint = 'checkpoint_test_future.keras'\n",
    "callback_checkpoint = ModelCheckpoint(filepath=path_checkpoint,\n",
    "                                      monitor='val_loss',\n",
    "                                      verbose=1,\n",
    "                                      save_weights_only=True,\n",
    "                                      save_best_only=True)\n",
    "callback_early_stopping = EarlyStopping(monitor='val_loss',\n",
    "                                        patience=5, verbose=1)\n",
    "callback_tensorboard = TensorBoard(log_dir='./23_logs/',\n",
    "                                   histogram_freq=0,\n",
    "                                   write_graph=False)\n",
    "callback_reduce_lr = ReduceLROnPlateau(monitor='val_loss',\n",
    "                                       factor=0.1,\n",
    "                                       min_lr=1e-4,\n",
    "                                       patience=2,\n",
    "                                       verbose=1)\n",
    "callbacks = [callback_early_stopping,\n",
    "             callback_checkpoint,\n",
    "             callback_tensorboard,\n",
    "             callback_reduce_lr]"
   ]
  },
  {
   "cell_type": "code",
   "execution_count": 32,
   "metadata": {
    "scrolled": true
   },
   "outputs": [
    {
     "ename": "NameError",
     "evalue": "name 'model' is not defined",
     "output_type": "error",
     "traceback": [
      "\u001b[1;31m---------------------------------------------------------------------------\u001b[0m",
      "\u001b[1;31mNameError\u001b[0m                                 Traceback (most recent call last)",
      "\u001b[1;32m<timed exec>\u001b[0m in \u001b[0;36m<module>\u001b[1;34m\u001b[0m\n",
      "\u001b[1;31mNameError\u001b[0m: name 'model' is not defined"
     ]
    }
   ],
   "source": [
    "%%time\n",
    "#model 4\n",
    "#load best!\n",
    "history = model.fit_generator(generator=generator,\n",
    "                    epochs=n_epochs,\n",
    "                    verbose=1,\n",
    "                    shuffle=False,\n",
    "                    steps_per_epoch=n_batch_steps,\n",
    "                    validation_data=validation_data,\n",
    "                    callbacks=callbacks)\n",
    "#score, acc = model.evaluate(validation_data)\n",
    "#print('Test score:', score)\n",
    "#print('Test accuracy:', acc)\n",
    "plt.plot(history.history['loss'], label='train')\n",
    "plt.plot(history.history['val_loss'], label='test')\n",
    "plt.legend()\n",
    "plt.show()"
   ]
  },
  {
   "cell_type": "code",
   "execution_count": 73,
   "metadata": {},
   "outputs": [],
   "source": [
    "try:\n",
    "    model.load_weights(path_checkpoint)\n",
    "except Exception as error:\n",
    "    print(\"Error trying to load checkpoint.\")\n",
    "    print(error)"
   ]
  },
  {
   "cell_type": "code",
   "execution_count": 74,
   "metadata": {},
   "outputs": [
    {
     "name": "stdout",
     "output_type": "stream",
     "text": [
      "\r",
      "6/6 [==============================] - 1s 154ms/sample - loss: 0.1413\n"
     ]
    }
   ],
   "source": [
    "result = model.evaluate(x=x_val,\n",
    "                        y=y_val)"
   ]
  },
  {
   "cell_type": "code",
   "execution_count": 26,
   "metadata": {},
   "outputs": [],
   "source": [
    "# If you have several metrics you can use this instead.\n",
    "if False:\n",
    "    for res, metric in zip(result, model.metrics_names):\n",
    "        pripred,x,y_turent(\"{0}: {1:.3e}\".format(metric, res))"
   ]
  },
  {
   "cell_type": "code",
   "execution_count": 103,
   "metadata": {},
   "outputs": [],
   "source": [
    "DateTime=np.array(df['DateTime'].drop_duplicates())\n",
    "def plot_comparison_store(store, start_idx, length=100, train=True):\n",
    "    \"\"\"\n",
    "    Plot the predicted and true output-signals.\n",
    "    \n",
    "    :param start_idx: Start-index for the time-series.\n",
    "    :param length: Sequence-length to process and plot.\n",
    "    :param train: Boolean whether to use training- or test-set.\n",
    "    \"\"\"\n",
    "    \n",
    "    if train:\n",
    "        # Use training-data.\n",
    "        x=arr_x_train[arr_y_train[:,0]==store,:].toarray()\n",
    "        time_range=DateTime[:num_train ]\n",
    "        y_true = arr_y_train[arr_y_train[:,0]==store,2:]\n",
    "    else:\n",
    "        # Use test-data.\n",
    "        x=arr_x_test[arr_y_test[:,0]==store,:].toarray()\n",
    "        time_range=DateTime[:num_train ]\n",
    "        y_true = arr_y_test[arr_y_test[:,0]==store,2:]\n",
    "    \n",
    "    # End-index for the sequences.\n",
    "    end_idx = start_idx + length\n",
    "    \n",
    "    # Select the sequences from the given start-index and\n",
    "    # of the given length.\n",
    "    x = x[start_idx:end_idx]\n",
    "    y_true = y_true[start_idx:end_idx]\n",
    "    time_range=time_range[start_idx:end_idx]\n",
    "    # Input-signals for the model.\n",
    "    x = np.expand_dims(x, axis=0)\n",
    "\n",
    "    # Use the model to predict the output-signals.\n",
    "    y_pred = model.predict(x)\n",
    "    \n",
    "    # The output of the model is between 0 and 1.\n",
    "    # Do an inverse map to get it back to the scale\n",
    "    # of the original data-set.\n",
    "    print(y_pred[0].shape)\n",
    "    y_pred_rescaled = y_scaler[store].inverse_transform(y_pred[0])\n",
    "    #y_pred_rescaled = y_pred[0]\n",
    "    y_true=y_scaler[store].inverse_transform(y_true)\n",
    "    # For each output-signal.\n",
    "    for signal in range(len(target_names)):\n",
    "        # Get the output-signal predicted by the model.\n",
    "        signal_pred = y_pred_rescaled[:, signal]\n",
    "        \n",
    "        # Get the true output-signal from the data-set.\n",
    "        signal_true = y_true[:, signal]\n",
    "\n",
    "        # Make the plotting-canvas bigger.\n",
    "        plt.figure(figsize=(15,5))\n",
    "        \n",
    "        # Plot and compare the two signals.\n",
    "        plt.plot(time_range,signal_true, label='true')\n",
    "        plt.plot(time_range,signal_pred, label='pred')\n",
    "        \n",
    "        # Plot grey box for warmup-period.\n",
    "        p = plt.axvspan(time_range[0], time_range[warmup_steps], facecolor='black', alpha=0.15)\n",
    "        \n",
    "        # Plot labels etc.\n",
    "        plt.ylabel(target_names[signal])\n",
    "        plt.legend()\n",
    "        plt.show()"
   ]
  },
  {
   "cell_type": "code",
   "execution_count": 111,
   "metadata": {},
   "outputs": [],
   "source": [
    "DateTime=np.array(df['DateTime'].drop_duplicates())\n",
    "def plot_comparison_store(store, start_idx, length=100, train=True):\n",
    "    \"\"\"\n",
    "    Plot the predicted and true output-signals.\n",
    "    \n",
    "    :param start_idx: Start-index for the time-series.\n",
    "    :param length: Sequence-length to process and plot.\n",
    "    :param train: Boolean whether to use training- or test-set.\n",
    "    \"\"\"\n",
    "    \n",
    "    if train:\n",
    "        # Use training-data.\n",
    "        x=arr_x_train[arr_y_train[:,0]==store,:].toarray()\n",
    "        time_range=DateTime[:num_train ]\n",
    "        y_true = arr_y_train[arr_y_train[:,0]==store,2:]\n",
    "    else:\n",
    "        # Use test-data.\n",
    "        x=arr_x_test[arr_y_test[:,0]==store,:].toarray()\n",
    "        time_range=DateTime[:num_train ]\n",
    "        y_true = arr_y_test[arr_y_test[:,0]==store,2:]\n",
    "    \n",
    "    # End-index for the sequences.\n",
    "    end_idx = start_idx + length\n",
    "    \n",
    "    # Select the sequences from the given start-index and\n",
    "    # of the given length.\n",
    "    x = x[start_idx:end_idx]\n",
    "    y_true = y_true[start_idx:end_idx]\n",
    "    time_range=time_range[start_idx:end_idx]\n",
    "    # Input-signals for the model.\n",
    "    x = np.expand_dims(x, axis=0)\n",
    "\n",
    "    # Use the model to predict the output-signals.\n",
    "    y_pred = model.predict(x)\n",
    "    \n",
    "    # The output of the model is between 0 and 1.\n",
    "    # Do an inverse map to get it back to the scale\n",
    "    # of the original data-set.\n",
    "    print(y_pred[0].shape)\n",
    "    y_pred_rescaled = y_scaler[store].inverse_transform(y_pred[0])\n",
    "    #y_pred_rescaled = y_pred[0]\n",
    "    y_true=y_scaler[store].inverse_transform(y_true)\n",
    "    # For each output-signal.\n",
    "    for signal in range(len(target_names)):\n",
    "        # Get the output-signal predicted by the model.\n",
    "        signal_pred = y_pred_rescaled[:, signal]\n",
    "        \n",
    "        # Get the true output-signal from the data-set.\n",
    "        signal_true = y_true[:, signal]\n",
    "\n",
    "        # Make the plotting-canvas bigger.\n",
    "        plt.figure(figsize=(15,5))\n",
    "        \n",
    "        # Plot and compare the two signals.\n",
    "        plt.plot(time_range,signal_true, label='true')\n",
    "        plt.plot(time_range,signal_pred, label='pred')\n",
    "        \n",
    "        # Plot grey box for warmup-period.\n",
    "        p = plt.axvspan(time_range[0], time_range[warmup_steps], facecolor='black', alpha=0.15)\n",
    "        \n",
    "        # Plot labels etc.\n",
    "        plt.ylabel(target_names[signal])\n",
    "        plt.legend()\n",
    "        plt.show()"
   ]
  },
  {
   "cell_type": "code",
   "execution_count": 112,
   "metadata": {},
   "outputs": [
    {
     "data": {
      "text/plain": [
       "[1001, 1002, 1003, 1004, 1005, 1006]"
      ]
     },
     "execution_count": 112,
     "metadata": {},
     "output_type": "execute_result"
    }
   ],
   "source": [
    "store_ls"
   ]
  },
  {
   "cell_type": "code",
   "execution_count": 124,
   "metadata": {},
   "outputs": [
    {
     "name": "stdout",
     "output_type": "stream",
     "text": [
      "(500, 1)\n"
     ]
    },
    {
     "data": {
      "image/png": "[encoded data removed]",
      "text/plain": [
       "<Figure size 1080x360 with 1 Axes>"
      ]
     },
     "metadata": {
      "needs_background": "light"
     },
     "output_type": "display_data"
    }
   ],
   "source": [
    "#current\n",
    "plot_comparison_store(1002, 0, length=500, train=True)"
   ]
  },
  {
   "cell_type": "code",
   "execution_count": null,
   "metadata": {},
   "outputs": [],
   "source": []
  }
 ],
 "metadata": {
  "kernelspec": {
   "display_name": "Python 3",
   "language": "python",
   "name": "python3"
  },
  "language_info": {
   "codemirror_mode": {
    "name": "ipython",
    "version": 3
   },
   "file_extension": ".py",
   "mimetype": "text/x-python",
   "name": "python",
   "nbconvert_exporter": "python",
   "pygments_lexer": "ipython3",
   "version": "3.7.4"
  }
 },
 "nbformat": 4,
 "nbformat_minor": 2
}
